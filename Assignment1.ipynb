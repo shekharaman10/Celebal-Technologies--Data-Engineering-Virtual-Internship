{
 "cells": [
  {
   "cell_type": "markdown",
   "id": "544175e9",
   "metadata": {},
   "source": [
    "py-if-else task: Uses conditional statements (if-elif-else) to make decisions based on input values. "
   ]
  },
  {
   "cell_type": "code",
   "execution_count": 1,
   "id": "ae45719b",
   "metadata": {},
   "outputs": [
    {
     "name": "stdout",
     "output_type": "stream",
     "text": [
      "Enter your score (0-100): 79\n",
      "Merit\n"
     ]
    }
   ],
   "source": [
    "score = int(input(\"Enter your score (0-100): \"))\n",
    "\n",
    "if score < 0 or score > 100:\n",
    "    print(\"Invalid score. Please enter a number between 0 and 100.\")\n",
    "elif score < 40:\n",
    "    print(\"Fail\")\n",
    "elif score < 60:\n",
    "    print(\"Pass\")\n",
    "elif score < 80:\n",
    "    print(\"Merit\")\n",
    "else:\n",
    "    print(\"Distinction\")\n"
   ]
  },
  {
   "cell_type": "markdown",
   "id": "bbe7573f",
   "metadata": {},
   "source": [
    "python-arithmetic-operators: Involves performing basic mathematical operations like addition, subtraction, multiplication, and division. \n",
    "https://www.hackerrank.com/challenges/python-arithmetic-operators/problem?isFullScreen=true"
   ]
  },
  {
   "cell_type": "code",
   "execution_count": 2,
   "id": "745819a3",
   "metadata": {},
   "outputs": [
    {
     "name": "stdout",
     "output_type": "stream",
     "text": [
      "4\n",
      "5\n",
      "9\n",
      "-1\n",
      "20\n"
     ]
    }
   ],
   "source": [
    "def arithmetic_operators(a, b):\n",
    "    return a + b, a - b, a * b\n",
    "\n",
    "if __name__ == '__main__':\n",
    "    a = int(input())\n",
    "    b = int(input())\n",
    "    add, sub, mul = arithmetic_operators(a, b)\n",
    "    print(add)\n",
    "    print(sub)\n",
    "    print(mul)"
   ]
  },
  {
   "cell_type": "markdown",
   "id": "4c152142",
   "metadata": {},
   "source": [
    "compress-the-string: Compresses a string by counting consecutive characters, often using itertools.groupby().\n",
    "https://www.hackerrank.com/challenges/compress-the-string/problem?isFullScreen=true"
   ]
  },
  {
   "cell_type": "code",
   "execution_count": 3,
   "id": "6bba019f",
   "metadata": {},
   "outputs": [
    {
     "name": "stdout",
     "output_type": "stream",
     "text": [
      "1222311\n",
      "(1, 1) (3, 2) (1, 3) (2, 1) "
     ]
    }
   ],
   "source": [
    "import itertools\n",
    "\n",
    "S = input()\n",
    "\n",
    "for key, group in itertools.groupby(S):\n",
    "    print(f\"({len(list(group))}, {key})\", end=' ')"
   ]
  },
  {
   "cell_type": "markdown",
   "id": "757da62f",
   "metadata": {},
   "source": [
    "the-minion-game: A string game where players earn points by forming substrings starting with vowels or consonants.\n",
    "https://www.hackerrank.com/challenges/the-minion-game/problem?isFullScreen=true"
   ]
  },
  {
   "cell_type": "code",
   "execution_count": 4,
   "id": "9475c34d",
   "metadata": {},
   "outputs": [
    {
     "name": "stdout",
     "output_type": "stream",
     "text": [
      "BANANA\n",
      "Stuart 12\n"
     ]
    }
   ],
   "source": [
    "def minion_game(string):\n",
    "    n = len(string)\n",
    "    vowels = {'A', 'E', 'I', 'O', 'U'}\n",
    "    stuart_score = 0\n",
    "    kevin_score = 0\n",
    "\n",
    "    for i in range(n):\n",
    "        if string[i] in vowels:\n",
    "            # If the character is a vowel, all substrings starting from this character\n",
    "            # contribute to Kevin's score. The number of such substrings is (n - i).\n",
    "            kevin_score += (n - i)\n",
    "        else:\n",
    "            # If the character is a consonant, all substrings starting from this character\n",
    "            # contribute to Stuart's score. The number of such substrings is (n - i).\n",
    "            stuart_score += (n - i)\n",
    "\n",
    "    if stuart_score > kevin_score:\n",
    "        print(f\"Stuart {stuart_score}\")\n",
    "    elif kevin_score > stuart_score:\n",
    "        print(f\"Kevin {kevin_score}\")\n",
    "    else:\n",
    "        print(\"Draw\")\n",
    "\n",
    "\n",
    "if __name__ == '__main__':\n",
    "    s = input()\n",
    "    minion_game(s)"
   ]
  },
  {
   "cell_type": "markdown",
   "id": "b5e67e25",
   "metadata": {},
   "source": [
    "write-a-function: Teaches how to define reusable blocks of code using the def keyword. https://www.hackerrank.com/challenges/write-a-function/problem?isFullScreen=true"
   ]
  },
  {
   "cell_type": "code",
   "execution_count": 5,
   "id": "652a5df4",
   "metadata": {},
   "outputs": [
    {
     "name": "stdout",
     "output_type": "stream",
     "text": [
      "2045\n",
      "False\n"
     ]
    }
   ],
   "source": [
    "def is_leap(year):\n",
    "    leap = False\n",
    "    if year % 4 == 0:\n",
    "        leap = True\n",
    "        if year % 100 == 0:\n",
    "            leap = False\n",
    "            if year % 400 == 0:\n",
    "                leap = True\n",
    "    \n",
    "    return leap\n",
    "\n",
    "year = int(input())\n",
    "print(is_leap(year))"
   ]
  },
  {
   "cell_type": "markdown",
   "id": "4a3bd1e2",
   "metadata": {},
   "source": [
    "Counts and displays the number of occurrences of each word while preserving their input order."
   ]
  },
  {
   "cell_type": "code",
   "execution_count": 6,
   "id": "08536a5a",
   "metadata": {},
   "outputs": [
    {
     "name": "stdout",
     "output_type": "stream",
     "text": [
      "celebal technology\n",
      "2\n",
      "1 1\n"
     ]
    }
   ],
   "source": [
    "from collections import OrderedDict\n",
    "\n",
    "words = input().split()\n",
    "\n",
    "counter = OrderedDict()\n",
    "\n",
    "for word in words:\n",
    "    counter[word] = counter.get(word, 0) + 1\n",
    "\n",
    "print(len(counter))\n",
    "\n",
    "print(\" \".join(str(count) for count in counter.values()))\n"
   ]
  },
  {
   "cell_type": "markdown",
   "id": "bddec6a0",
   "metadata": {},
   "source": [
    "iterables-and-iterators: Works with iterators and combinations to solve problems involving sequences and probabilities.  https://www.hackerrank.com/challenges/iterables-and-iterators/problem?isFullScreen=true"
   ]
  },
  {
   "cell_type": "code",
   "execution_count": 7,
   "id": "46efc3ed",
   "metadata": {},
   "outputs": [
    {
     "name": "stdout",
     "output_type": "stream",
     "text": [
      "4\n",
      "a a c d\n",
      "2\n",
      "0.8333\n"
     ]
    }
   ],
   "source": [
    "from itertools import combinations\n",
    "\n",
    "N = int(input())\n",
    "letters = input().split()\n",
    "K = int(input())\n",
    "\n",
    "# Generate all combinations of indices (positions) of size K\n",
    "all_combinations = list(combinations(range(N), K))\n",
    "\n",
    "# Count how many combinations contain at least one 'a'\n",
    "favorable = 0\n",
    "for comb in all_combinations:\n",
    "    if 'a' in [letters[i] for i in comb]:\n",
    "        favorable += 1\n",
    "\n",
    "# Compute and print probability\n",
    "probability = favorable / len(all_combinations)\n",
    "print(f\"{probability:.4f}\")"
   ]
  },
  {
   "cell_type": "markdown",
   "id": "bfa8b09b",
   "metadata": {},
   "source": [
    "python-tuples: Introduces immutable sequences and their use in operations like hashing. https://www.hackerrank.com/challenges/python-tuples/problem?isFullScreen=true"
   ]
  },
  {
   "cell_type": "code",
   "execution_count": 2,
   "id": "46392d54",
   "metadata": {},
   "outputs": [
    {
     "name": "stdout",
     "output_type": "stream",
     "text": [
      "2\n",
      "1 2\n",
      "-3550055125485641917\n"
     ]
    }
   ],
   "source": [
    "if __name__ == '__main__':\n",
    "    n = int(input())\n",
    "    integer_list = map(int, input().split())\n",
    "    t = tuple(integer_list)\n",
    "    print(hash(t))\n"
   ]
  },
  {
   "cell_type": "markdown",
   "id": "b43d7943",
   "metadata": {},
   "source": [
    " finding-the-percentage: Calculates and formats the average marks of a student from a given dataset. https://www.hackerrank.com/challenges/finding-the-percentage/problem?isFullScreen=true"
   ]
  },
  {
   "cell_type": "code",
   "execution_count": 3,
   "id": "24af26c5",
   "metadata": {},
   "outputs": [
    {
     "name": "stdout",
     "output_type": "stream",
     "text": [
      "3\n",
      "Krishna 67 68 69\n",
      "Arjun 70 98 63\n",
      "Malika 52 56 60\n",
      "Malika\n",
      "56.00\n"
     ]
    }
   ],
   "source": [
    "if __name__ == '__main__':\n",
    "    n = int(input())\n",
    "    student_marks = {}\n",
    "    \n",
    "    for _ in range(n):\n",
    "        line = input().split()\n",
    "        name = line[0]\n",
    "        scores = list(map(float, line[1:]))\n",
    "        student_marks[name] = scores\n",
    "\n",
    "    query_name = input()\n",
    "    query_scores = student_marks[query_name]\n",
    "    average = sum(query_scores) / len(query_scores)\n",
    "    \n",
    "    print(\"{:.2f}\".format(average))\n"
   ]
  },
  {
   "cell_type": "markdown",
   "id": "ac4004a8",
   "metadata": {},
   "source": [
    " python-string-formatting: Demonstrates ways to format and align strings and numbers for clean output. https://www.hackerrank.com/challenges/python-string-formatting/problem?isFullScreen=true"
   ]
  },
  {
   "cell_type": "code",
   "execution_count": 4,
   "id": "64935fc9",
   "metadata": {},
   "outputs": [
    {
     "name": "stdout",
     "output_type": "stream",
     "text": [
      "17\n",
      "    1     1     1     1\n",
      "    2     2     2    10\n",
      "    3     3     3    11\n",
      "    4     4     4   100\n",
      "    5     5     5   101\n",
      "    6     6     6   110\n",
      "    7     7     7   111\n",
      "    8    10     8  1000\n",
      "    9    11     9  1001\n",
      "   10    12     A  1010\n",
      "   11    13     B  1011\n",
      "   12    14     C  1100\n",
      "   13    15     D  1101\n",
      "   14    16     E  1110\n",
      "   15    17     F  1111\n",
      "   16    20    10 10000\n",
      "   17    21    11 10001\n"
     ]
    }
   ],
   "source": [
    "def print_formatted(number):\n",
    "    width = len(bin(number)[2:])  # width of the binary number\n",
    "    for i in range(1, number + 1):\n",
    "        dec = str(i).rjust(width)\n",
    "        octal = oct(i)[2:].rjust(width)\n",
    "        hexa = hex(i)[2:].upper().rjust(width)\n",
    "        binary = bin(i)[2:].rjust(width)\n",
    "        print(dec, octal, hexa, binary)\n",
    "\n",
    "if __name__ == '__main__':\n",
    "    n = int(input())\n",
    "    print_formatted(n)"
   ]
  },
  {
   "cell_type": "code",
   "execution_count": null,
   "id": "5481f78f",
   "metadata": {},
   "outputs": [],
   "source": []
  }
 ],
 "metadata": {
  "kernelspec": {
   "display_name": "Python 3 (ipykernel)",
   "language": "python",
   "name": "python3"
  },
  "language_info": {
   "codemirror_mode": {
    "name": "ipython",
    "version": 3
   },
   "file_extension": ".py",
   "mimetype": "text/x-python",
   "name": "python",
   "nbconvert_exporter": "python",
   "pygments_lexer": "ipython3",
   "version": "3.11.3"
  }
 },
 "nbformat": 4,
 "nbformat_minor": 5
}
